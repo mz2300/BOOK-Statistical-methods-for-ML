{
 "cells": [
  {
   "cell_type": "markdown",
   "id": "76d466a4",
   "metadata": {},
   "source": [
    "## Random numbers"
   ]
  },
  {
   "cell_type": "code",
   "execution_count": 8,
   "id": "1695fce2",
   "metadata": {},
   "outputs": [],
   "source": [
    "import numpy as np\n",
    "from matplotlib import pyplot as plt"
   ]
  },
  {
   "cell_type": "markdown",
   "id": "64bc5990",
   "metadata": {},
   "source": [
    "### 1. Random module"
   ]
  },
  {
   "cell_type": "code",
   "execution_count": 10,
   "id": "13a4a6ba",
   "metadata": {},
   "outputs": [],
   "source": [
    "from random import random, seed, randint, gauss\n",
    "# random() - float values in range (0, 1]\n",
    "# randint(start, end) - int values in range [start, end]\n",
    "# gauss() - float values from Gaussian distribution"
   ]
  },
  {
   "cell_type": "code",
   "execution_count": 4,
   "id": "5972f867",
   "metadata": {},
   "outputs": [],
   "source": [
    "def print_3_random_nums():\n",
    "    print([random() for _ in range(3)])"
   ]
  },
  {
   "cell_type": "code",
   "execution_count": 5,
   "id": "f655b8ad",
   "metadata": {},
   "outputs": [
    {
     "name": "stdout",
     "output_type": "stream",
     "text": [
      "[0.13436424411240122, 0.8474337369372327, 0.763774618976614]\n"
     ]
    }
   ],
   "source": [
    "seed(1)\n",
    "print_3_random_nums()"
   ]
  },
  {
   "cell_type": "code",
   "execution_count": 6,
   "id": "c22c0d0a",
   "metadata": {},
   "outputs": [
    {
     "name": "stdout",
     "output_type": "stream",
     "text": [
      "[0.9560342718892494, 0.9478274870593494, 0.05655136772680869]\n"
     ]
    }
   ],
   "source": [
    "seed(2)\n",
    "print_3_random_nums()"
   ]
  },
  {
   "cell_type": "code",
   "execution_count": 7,
   "id": "8dadc5f6",
   "metadata": {},
   "outputs": [
    {
     "name": "stdout",
     "output_type": "stream",
     "text": [
      "[0.13436424411240122, 0.8474337369372327, 0.763774618976614]\n"
     ]
    }
   ],
   "source": [
    "seed(1)\n",
    "print_3_random_nums()"
   ]
  },
  {
   "cell_type": "markdown",
   "id": "efec943f",
   "metadata": {},
   "source": [
    "#### 1.1 gauss()"
   ]
  },
  {
   "cell_type": "code",
   "execution_count": 19,
   "id": "72c53f3f",
   "metadata": {},
   "outputs": [
    {
     "data": {
      "image/png": "[encoded data removed]",
      "text/plain": [
       "<Figure size 432x288 with 1 Axes>"
      ]
     },
     "metadata": {
      "needs_background": "light"
     },
     "output_type": "display_data"
    }
   ],
   "source": [
    "x = [gauss(0, 1) for _ in range(100)]\n",
    "plt.hist(x, bins = 20)\n",
    "plt.show()"
   ]
  },
  {
   "cell_type": "markdown",
   "id": "16a2c5ed",
   "metadata": {},
   "source": [
    "### 2. NumPy random"
   ]
  },
  {
   "cell_type": "code",
   "execution_count": 16,
   "id": "92e9f2e4",
   "metadata": {},
   "outputs": [
    {
     "data": {
      "text/plain": [
       "array([4.17022005e-01, 7.20324493e-01, 1.14374817e-04, 3.02332573e-01,\n",
       "       1.46755891e-01, 9.23385948e-02, 1.86260211e-01, 3.45560727e-01,\n",
       "       3.96767474e-01, 5.38816734e-01])"
      ]
     },
     "execution_count": 16,
     "metadata": {},
     "output_type": "execute_result"
    }
   ],
   "source": [
    "np.random.seed(1)\n",
    "np.random.rand(10)"
   ]
  },
  {
   "cell_type": "code",
   "execution_count": 17,
   "id": "f90ea46d",
   "metadata": {},
   "outputs": [
    {
     "data": {
      "text/plain": [
       "array([4.17022005e-01, 7.20324493e-01, 1.14374817e-04, 3.02332573e-01,\n",
       "       1.46755891e-01, 9.23385948e-02, 1.86260211e-01, 3.45560727e-01,\n",
       "       3.96767474e-01, 5.38816734e-01])"
      ]
     },
     "execution_count": 17,
     "metadata": {},
     "output_type": "execute_result"
    }
   ],
   "source": [
    "np.random.seed(1)\n",
    "np.random.rand(10)"
   ]
  },
  {
   "cell_type": "code",
   "execution_count": 18,
   "id": "1128ad5d",
   "metadata": {},
   "outputs": [
    {
     "data": {
      "image/png": "[encoded data removed]",
      "text/plain": [
       "<Figure size 432x288 with 1 Axes>"
      ]
     },
     "metadata": {
      "needs_background": "light"
     },
     "output_type": "display_data"
    }
   ],
   "source": [
    "# gauss\n",
    "plt.hist(np.random.randn(100), bins = 20)\n",
    "plt.show()"
   ]
  },
  {
   "cell_type": "markdown",
   "id": "cecde3c1",
   "metadata": {},
   "source": [
    "## Law of Large Numbers"
   ]
  },
  {
   "cell_type": "code",
   "execution_count": 32,
   "id": "5243e29f",
   "metadata": {},
   "outputs": [
    {
     "data": {
      "text/plain": [
       "<matplotlib.collections.PathCollection at 0x2084ca1bbe0>"
      ]
     },
     "execution_count": 32,
     "metadata": {},
     "output_type": "execute_result"
    },
    {
     "data": {
      "image/png": "[encoded data removed]",
      "text/plain": [
       "<Figure size 432x288 with 1 Axes>"
      ]
     },
     "metadata": {
      "needs_background": "light"
     },
     "output_type": "display_data"
    }
   ],
   "source": [
    "np.random.seed(1)\n",
    "\n",
    "# 1000 experiments where every experiment is 50 dice rolls\n",
    "rolls_list = [np.random.randint(1, 7, i) for i in range(100)]\n",
    "plt.scatter(range(100), [np.mean(x) for x in rolls_list])"
   ]
  },
  {
   "cell_type": "markdown",
   "id": "e6afd6dd",
   "metadata": {},
   "source": [
    "## Central Limit Theorem"
   ]
  },
  {
   "cell_type": "code",
   "execution_count": 24,
   "id": "7c41135d",
   "metadata": {},
   "outputs": [
    {
     "data": {
      "text/plain": [
       "(array([ 16.,  31., 109., 154., 239., 223., 133.,  73.,  21.,   1.]),\n",
       " array([2.82 , 2.962, 3.104, 3.246, 3.388, 3.53 , 3.672, 3.814, 3.956,\n",
       "        4.098, 4.24 ]),\n",
       " <BarContainer object of 10 artists>)"
      ]
     },
     "execution_count": 24,
     "metadata": {},
     "output_type": "execute_result"
    },
    {
     "data": {
      "image/png": "[encoded data removed]",
      "text/plain": [
       "<Figure size 432x288 with 1 Axes>"
      ]
     },
     "metadata": {
      "needs_background": "light"
     },
     "output_type": "display_data"
    }
   ],
   "source": [
    "np.random.seed(1)\n",
    "\n",
    "# 1000 experiments where every experiment is 50 dice rolls\n",
    "rolls_list = [np.random.randint(1, 7, 50) for _ in range(1000)]\n",
    "plt.hist([np.mean(x) for x in rolls_list])"
   ]
  },
  {
   "cell_type": "code",
   "execution_count": 29,
   "id": "30bfebf1",
   "metadata": {},
   "outputs": [
    {
     "data": {
      "text/plain": [
       "(array([  3.,   6.,  39., 105., 187., 305., 194., 111.,  41.,   9.]),\n",
       " array([2.88 , 2.994, 3.108, 3.222, 3.336, 3.45 , 3.564, 3.678, 3.792,\n",
       "        3.906, 4.02 ]),\n",
       " <BarContainer object of 10 artists>)"
      ]
     },
     "execution_count": 29,
     "metadata": {},
     "output_type": "execute_result"
    },
    {
     "data": {
      "image/png": "[encoded data removed]",
      "text/plain": [
       "<Figure size 432x288 with 1 Axes>"
      ]
     },
     "metadata": {
      "needs_background": "light"
     },
     "output_type": "display_data"
    }
   ],
   "source": [
    "# the more number of samples in experiment (50 -> 100) is the better teh sample means approximate a Gaussin distr. \n",
    "rolls_list = [np.random.randint(1, 7, 100) for _ in range(1000)]\n",
    "plt.hist([np.mean(x) for x in rolls_list])"
   ]
  }
 ],
 "metadata": {
  "kernelspec": {
   "display_name": "Python 3",
   "language": "python",
   "name": "python3"
  },
  "language_info": {
   "codemirror_mode": {
    "name": "ipython",
    "version": 3
   },
   "file_extension": ".py",
   "mimetype": "text/x-python",
   "name": "python",
   "nbconvert_exporter": "python",
   "pygments_lexer": "ipython3",
   "version": "3.8.8"
  }
 },
 "nbformat": 4,
 "nbformat_minor": 5
}
